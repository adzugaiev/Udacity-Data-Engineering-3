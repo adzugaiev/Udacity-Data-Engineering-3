{
 "cells": [
  {
   "cell_type": "code",
   "execution_count": 1,
   "metadata": {
    "editable": true
   },
   "outputs": [],
   "source": [
    "%load_ext sql"
   ]
  },
  {
   "cell_type": "code",
   "execution_count": 2,
   "metadata": {
    "editable": true
   },
   "outputs": [],
   "source": [
    "import configparser\n",
    "import sql_queries as sq"
   ]
  },
  {
   "cell_type": "markdown",
   "metadata": {
    "editable": true
   },
   "source": [
    "### Introduction\n",
    "This notebook tests selected queries from `sql_queries.py` to:\n",
    "1. Debug and tune the queries\n",
    "1. Justify the chouce of distribution style and keys for the DWH tables\n",
    "\n",
    "The code below caters for an active RedShift endpoint and IAM role for S3 access.\n",
    "> Run `dwh_iac.ipynb` first to create the RedShift cluster and setup access!"
   ]
  },
  {
   "cell_type": "code",
   "execution_count": 3,
   "metadata": {
    "editable": true
   },
   "outputs": [
    {
     "data": {
      "text/plain": [
       "'Connected: dwhuser@dwh'"
      ]
     },
     "execution_count": 3,
     "metadata": {},
     "output_type": "execute_result"
    }
   ],
   "source": [
    "dwh_cfg = configparser.ConfigParser()\n",
    "dwh_cfg.read('dwh.cfg')\n",
    "\n",
    "conn_values = (dwh_cfg.get('DB','DB_USER'),\n",
    "               dwh_cfg.get('DB','DB_PASSWORD'),\n",
    "               dwh_cfg.get('DB','DB_ENDPOINT'),\n",
    "               dwh_cfg.get('DB','DB_PORT'),\n",
    "               dwh_cfg.get('DB','DB_NAME'))\n",
    "\n",
    "con = \"postgresql://{}:{}@{}:{}/{}\".format(*conn_values)\n",
    "%sql $con"
   ]
  },
  {
   "cell_type": "markdown",
   "metadata": {
    "editable": true
   },
   "source": [
    "Drop all DWH tables if you like to start from scratch. `$con` is [supperssing the connection string](https://stackoverflow.com/q/53818698) from output."
   ]
  },
  {
   "cell_type": "code",
   "execution_count": null,
   "metadata": {
    "editable": true
   },
   "outputs": [],
   "source": [
    "for query in sq.drop_table_queries:\n",
    "    %sql $con $query"
   ]
  },
  {
   "cell_type": "markdown",
   "metadata": {
    "editable": true
   },
   "source": [
    "### Create and populate the staging tables"
   ]
  },
  {
   "cell_type": "code",
   "execution_count": 4,
   "metadata": {
    "editable": true
   },
   "outputs": [
    {
     "name": "stdout",
     "output_type": "stream",
     "text": [
      "Done.\n",
      "Done.\n"
     ]
    },
    {
     "data": {
      "text/plain": [
       "[]"
      ]
     },
     "execution_count": 4,
     "metadata": {},
     "output_type": "execute_result"
    }
   ],
   "source": [
    "%sql $con $sq.staging_events_table_create\n",
    "%sql $con $sq.staging_songs_table_create"
   ]
  },
  {
   "cell_type": "code",
   "execution_count": 5,
   "metadata": {
    "editable": true
   },
   "outputs": [
    {
     "name": "stdout",
     "output_type": "stream",
     "text": [
      "Done.\n",
      "CPU times: user 2.06 ms, sys: 8.21 ms, total: 10.3 ms\n",
      "Wall time: 3.62 s\n"
     ]
    },
    {
     "data": {
      "text/plain": [
       "[]"
      ]
     },
     "execution_count": 5,
     "metadata": {},
     "output_type": "execute_result"
    }
   ],
   "source": [
    "%%time\n",
    "%sql $con $sq.staging_events_copy"
   ]
  },
  {
   "cell_type": "code",
   "execution_count": 6,
   "metadata": {
    "editable": true
   },
   "outputs": [
    {
     "name": "stdout",
     "output_type": "stream",
     "text": [
      "Done.\n",
      "CPU times: user 9.99 ms, sys: 369 µs, total: 10.4 ms\n",
      "Wall time: 2min 45s\n"
     ]
    },
    {
     "data": {
      "text/plain": [
       "[]"
      ]
     },
     "execution_count": 6,
     "metadata": {},
     "output_type": "execute_result"
    }
   ],
   "source": [
    "%%time\n",
    "%sql $con $sq.staging_songs_copy"
   ]
  },
  {
   "cell_type": "markdown",
   "metadata": {
    "editable": true
   },
   "source": [
    "With 2 nodes:"
   ]
  },
  {
   "cell_type": "raw",
   "metadata": {
    "editable": true
   },
   "source": [
    "CPU times: user 6.66 ms, sys: 3.7 ms, total: 10.4 ms\n",
    "Wall time: 5min 43s"
   ]
  },
  {
   "cell_type": "markdown",
   "metadata": {
    "editable": true
   },
   "source": [
    "### Investigate the staging tables\n",
    "How many fact records can we potentially have in table `songplays`?"
   ]
  },
  {
   "cell_type": "code",
   "execution_count": 7,
   "metadata": {
    "editable": true
   },
   "outputs": [
    {
     "name": "stdout",
     "output_type": "stream",
     "text": [
      "1 rows affected.\n"
     ]
    },
    {
     "data": {
      "text/html": [
       "<table>\n",
       "    <tr>\n",
       "        <th>count</th>\n",
       "    </tr>\n",
       "    <tr>\n",
       "        <td>6820</td>\n",
       "    </tr>\n",
       "</table>"
      ],
      "text/plain": [
       "[(6820,)]"
      ]
     },
     "execution_count": 7,
     "metadata": {},
     "output_type": "execute_result"
    }
   ],
   "source": [
    "%%sql $con \n",
    "SELECT COUNT (*) FROM (SELECT DISTINCT ts, userId FROM staging_events\n",
    "WHERE   page    = 'NextSong'\n",
    "    AND ts     is NOT NULL\n",
    "    AND userId is NOT NULL\n",
    "    AND level  is NOT NULL)"
   ]
  },
  {
   "cell_type": "markdown",
   "metadata": {
    "editable": true
   },
   "source": [
    "Are there `songplays` for which no song can be matched from `staging_songs` by the artist name and song title?"
   ]
  },
  {
   "cell_type": "code",
   "execution_count": 8,
   "metadata": {
    "editable": true
   },
   "outputs": [
    {
     "name": "stdout",
     "output_type": "stream",
     "text": [
      "1 rows affected.\n"
     ]
    },
    {
     "data": {
      "text/html": [
       "<table>\n",
       "    <tr>\n",
       "        <th>count</th>\n",
       "    </tr>\n",
       "    <tr>\n",
       "        <td>6487</td>\n",
       "    </tr>\n",
       "</table>"
      ],
      "text/plain": [
       "[(6487,)]"
      ]
     },
     "execution_count": 8,
     "metadata": {},
     "output_type": "execute_result"
    }
   ],
   "source": [
    "%%sql $con \n",
    "SELECT COUNT (*) FROM (SELECT DISTINCT ts, userId FROM staging_events AS event\n",
    "WHERE   page    = 'NextSong'\n",
    "    AND ts     is NOT NULL\n",
    "    AND userId is NOT NULL\n",
    "    AND level  is NOT NULL\n",
    "    AND NOT EXISTS (SELECT DISTINCT song_id FROM staging_songs AS song\n",
    "                    WHERE event.song   = song.title\n",
    "                      AND event.artist = song.artist_name\n",
    "                   ))"
   ]
  },
  {
   "cell_type": "markdown",
   "metadata": {
    "editable": true
   },
   "source": [
    "How many potential records in `time` dimension? The number of actual records will not exceed the number of facts in `songplays`."
   ]
  },
  {
   "cell_type": "code",
   "execution_count": 9,
   "metadata": {
    "editable": true
   },
   "outputs": [
    {
     "name": "stdout",
     "output_type": "stream",
     "text": [
      "1 rows affected.\n"
     ]
    },
    {
     "data": {
      "text/html": [
       "<table>\n",
       "    <tr>\n",
       "        <th>count</th>\n",
       "    </tr>\n",
       "    <tr>\n",
       "        <td>6813</td>\n",
       "    </tr>\n",
       "</table>"
      ],
      "text/plain": [
       "[(6813,)]"
      ]
     },
     "execution_count": 9,
     "metadata": {},
     "output_type": "execute_result"
    }
   ],
   "source": [
    "%%sql $con\n",
    "SELECT COUNT (*) FROM (SELECT DISTINCT ts FROM staging_events\n",
    "WHERE   page    = 'NextSong'\n",
    "    AND ts     is NOT NULL\n",
    "    AND userId is NOT NULL\n",
    "    AND level  is NOT NULL)"
   ]
  },
  {
   "cell_type": "markdown",
   "metadata": {
    "editable": true
   },
   "source": [
    "So are there multiple `NextSong` events at the same time?"
   ]
  },
  {
   "cell_type": "code",
   "execution_count": 10,
   "metadata": {
    "editable": true
   },
   "outputs": [
    {
     "name": "stdout",
     "output_type": "stream",
     "text": [
      "7 rows affected.\n"
     ]
    },
    {
     "data": {
      "text/html": [
       "<table>\n",
       "    <tr>\n",
       "        <th>ts</th>\n",
       "        <th>users</th>\n",
       "    </tr>\n",
       "    <tr>\n",
       "        <td>2018-11-14 04:53:36.796000</td>\n",
       "        <td>2</td>\n",
       "    </tr>\n",
       "    <tr>\n",
       "        <td>2018-11-15 18:55:04.796000</td>\n",
       "        <td>2</td>\n",
       "    </tr>\n",
       "    <tr>\n",
       "        <td>2018-11-24 14:29:47.796000</td>\n",
       "        <td>2</td>\n",
       "    </tr>\n",
       "    <tr>\n",
       "        <td>2018-11-23 14:41:51.796000</td>\n",
       "        <td>2</td>\n",
       "    </tr>\n",
       "    <tr>\n",
       "        <td>2018-11-28 16:36:15.796000</td>\n",
       "        <td>2</td>\n",
       "    </tr>\n",
       "    <tr>\n",
       "        <td>2018-11-28 19:59:23.796000</td>\n",
       "        <td>2</td>\n",
       "    </tr>\n",
       "    <tr>\n",
       "        <td>2018-11-27 17:28:50.796000</td>\n",
       "        <td>2</td>\n",
       "    </tr>\n",
       "</table>"
      ],
      "text/plain": [
       "[(datetime.datetime(2018, 11, 14, 4, 53, 36, 796000), 2),\n",
       " (datetime.datetime(2018, 11, 15, 18, 55, 4, 796000), 2),\n",
       " (datetime.datetime(2018, 11, 24, 14, 29, 47, 796000), 2),\n",
       " (datetime.datetime(2018, 11, 23, 14, 41, 51, 796000), 2),\n",
       " (datetime.datetime(2018, 11, 28, 16, 36, 15, 796000), 2),\n",
       " (datetime.datetime(2018, 11, 28, 19, 59, 23, 796000), 2),\n",
       " (datetime.datetime(2018, 11, 27, 17, 28, 50, 796000), 2)]"
      ]
     },
     "execution_count": 10,
     "metadata": {},
     "output_type": "execute_result"
    }
   ],
   "source": [
    "%%sql $con\n",
    "SELECT ts, COUNT(userId) as users FROM staging_events\n",
    "WHERE   page    = 'NextSong'\n",
    "    AND ts     is NOT NULL\n",
    "    AND userId is NOT NULL\n",
    "    AND level  is NOT NULL\n",
    "GROUP BY ts HAVING users > 1"
   ]
  },
  {
   "cell_type": "markdown",
   "metadata": {
    "editable": true
   },
   "source": [
    "How many users are there in `users` dimension?"
   ]
  },
  {
   "cell_type": "code",
   "execution_count": 11,
   "metadata": {
    "editable": true
   },
   "outputs": [
    {
     "name": "stdout",
     "output_type": "stream",
     "text": [
      "1 rows affected.\n"
     ]
    },
    {
     "data": {
      "text/html": [
       "<table>\n",
       "    <tr>\n",
       "        <th>count</th>\n",
       "    </tr>\n",
       "    <tr>\n",
       "        <td>105</td>\n",
       "    </tr>\n",
       "</table>"
      ],
      "text/plain": [
       "[(105,)]"
      ]
     },
     "execution_count": 11,
     "metadata": {},
     "output_type": "execute_result"
    }
   ],
   "source": [
    "%%sql $con\n",
    "SELECT COUNT (*) FROM (SELECT DISTINCT userId,  firstName,  lastName,  gender, level FROM staging_events\n",
    "WHERE   userId is NOT NULL\n",
    "    AND level  is NOT NULL)"
   ]
  },
  {
   "cell_type": "markdown",
   "metadata": {
    "editable": true
   },
   "source": [
    "For how many users at least one song can be matched from `staging_songs` by the artist name and song title??"
   ]
  },
  {
   "cell_type": "code",
   "execution_count": 12,
   "metadata": {
    "editable": true
   },
   "outputs": [
    {
     "name": "stdout",
     "output_type": "stream",
     "text": [
      "1 rows affected.\n"
     ]
    },
    {
     "data": {
      "text/html": [
       "<table>\n",
       "    <tr>\n",
       "        <th>count</th>\n",
       "    </tr>\n",
       "    <tr>\n",
       "        <td>61</td>\n",
       "    </tr>\n",
       "</table>"
      ],
      "text/plain": [
       "[(61,)]"
      ]
     },
     "execution_count": 12,
     "metadata": {},
     "output_type": "execute_result"
    }
   ],
   "source": [
    "%%sql $con \n",
    "SELECT COUNT (*) FROM (SELECT DISTINCT userId, firstName,  lastName,  gender, level FROM staging_events AS event\n",
    "WHERE   page    = 'NextSong'\n",
    "    AND ts     is NOT NULL\n",
    "    AND userId is NOT NULL\n",
    "    AND level  is NOT NULL\n",
    "    AND EXISTS (SELECT DISTINCT song_id FROM staging_songs AS song\n",
    "                WHERE event.song   = song.title\n",
    "                    AND event.artist = song.artist_name\n",
    "               ))"
   ]
  },
  {
   "cell_type": "markdown",
   "metadata": {
    "editable": true
   },
   "source": [
    "How many songs are there in `songs` dimension?"
   ]
  },
  {
   "cell_type": "code",
   "execution_count": 13,
   "metadata": {
    "editable": true
   },
   "outputs": [
    {
     "name": "stdout",
     "output_type": "stream",
     "text": [
      "1 rows affected.\n"
     ]
    },
    {
     "data": {
      "text/html": [
       "<table>\n",
       "    <tr>\n",
       "        <th>count</th>\n",
       "    </tr>\n",
       "    <tr>\n",
       "        <td>14896</td>\n",
       "    </tr>\n",
       "</table>"
      ],
      "text/plain": [
       "[(14896,)]"
      ]
     },
     "execution_count": 13,
     "metadata": {},
     "output_type": "execute_result"
    }
   ],
   "source": [
    "%%sql $con\n",
    "SELECT COUNT (*) FROM (SELECT DISTINCT song_id FROM staging_songs\n",
    "WHERE song_id is NOT NULL)"
   ]
  },
  {
   "cell_type": "markdown",
   "metadata": {
    "editable": true
   },
   "source": [
    "How many of these songs will be mentioned in `songplays`?"
   ]
  },
  {
   "cell_type": "code",
   "execution_count": 14,
   "metadata": {
    "editable": true
   },
   "outputs": [
    {
     "name": "stdout",
     "output_type": "stream",
     "text": [
      "1 rows affected.\n"
     ]
    },
    {
     "data": {
      "text/html": [
       "<table>\n",
       "    <tr>\n",
       "        <th>count</th>\n",
       "    </tr>\n",
       "    <tr>\n",
       "        <td>217</td>\n",
       "    </tr>\n",
       "</table>"
      ],
      "text/plain": [
       "[(217,)]"
      ]
     },
     "execution_count": 14,
     "metadata": {},
     "output_type": "execute_result"
    }
   ],
   "source": [
    "%%sql $con\n",
    "SELECT COUNT (*) FROM (SELECT DISTINCT song_id FROM staging_songs as song\n",
    "WHERE song_id is NOT NULL\n",
    "    AND EXISTS (SELECT DISTINCT ts FROM staging_events AS event\n",
    "                WHERE   event.song   = song.title\n",
    "                    AND event.artist = song.artist_name\n",
    "                    AND event.page   = 'NextSong'\n",
    "               ))"
   ]
  },
  {
   "cell_type": "markdown",
   "metadata": {
    "editable": true
   },
   "source": [
    "How many artists are there in `artists` dimension?"
   ]
  },
  {
   "cell_type": "code",
   "execution_count": 15,
   "metadata": {
    "editable": true
   },
   "outputs": [
    {
     "name": "stdout",
     "output_type": "stream",
     "text": [
      "1 rows affected.\n"
     ]
    },
    {
     "data": {
      "text/html": [
       "<table>\n",
       "    <tr>\n",
       "        <th>count</th>\n",
       "    </tr>\n",
       "    <tr>\n",
       "        <td>9993</td>\n",
       "    </tr>\n",
       "</table>"
      ],
      "text/plain": [
       "[(9993,)]"
      ]
     },
     "execution_count": 15,
     "metadata": {},
     "output_type": "execute_result"
    }
   ],
   "source": [
    "%%sql $con\n",
    "SELECT COUNT (*) FROM (SELECT DISTINCT artist_id, artist_name FROM staging_songs\n",
    "WHERE artist_id is NOT NULL\n",
    "  AND song_id   is NOT NULL)"
   ]
  },
  {
   "cell_type": "markdown",
   "metadata": {
    "editable": true
   },
   "source": [
    "How many of these artists will be mentioned in `songplays`?"
   ]
  },
  {
   "cell_type": "code",
   "execution_count": 16,
   "metadata": {
    "editable": true
   },
   "outputs": [
    {
     "name": "stdout",
     "output_type": "stream",
     "text": [
      "1 rows affected.\n"
     ]
    },
    {
     "data": {
      "text/html": [
       "<table>\n",
       "    <tr>\n",
       "        <th>count</th>\n",
       "    </tr>\n",
       "    <tr>\n",
       "        <td>200</td>\n",
       "    </tr>\n",
       "</table>"
      ],
      "text/plain": [
       "[(200,)]"
      ]
     },
     "execution_count": 16,
     "metadata": {},
     "output_type": "execute_result"
    }
   ],
   "source": [
    "%%sql $con\n",
    "SELECT COUNT (*) FROM (SELECT DISTINCT artist_id FROM staging_songs as song\n",
    "WHERE artist_id is NOT NULL\n",
    "    AND EXISTS (SELECT DISTINCT ts FROM staging_events AS event\n",
    "                WHERE   event.song   = song.title\n",
    "                    AND event.artist = song.artist_name\n",
    "                    AND event.page   = 'NextSong'\n",
    "               ))"
   ]
  },
  {
   "cell_type": "markdown",
   "metadata": {
    "editable": true
   },
   "source": [
    "### Choose the distribution style\n",
    "Based on the above counts we can choose the distribution style for fact and dimensions as:\n",
    "- `songplays` and `time`: KEY with `start_time` as the distribution and the sort key\n",
    "- `users`: ALL, sort key `user_id`\n",
    "- `songs`: ALL, sort key `song_id`\n",
    "- `artists`: ALL, sort key `artist_id`"
   ]
  },
  {
   "cell_type": "markdown",
   "metadata": {
    "editable": true
   },
   "source": [
    "### Create the star schema"
   ]
  },
  {
   "cell_type": "code",
   "execution_count": 17,
   "metadata": {
    "editable": true
   },
   "outputs": [
    {
     "name": "stdout",
     "output_type": "stream",
     "text": [
      "Done.\n",
      "Done.\n",
      "Done.\n",
      "Done.\n",
      "Done.\n"
     ]
    },
    {
     "data": {
      "text/plain": [
       "[]"
      ]
     },
     "execution_count": 17,
     "metadata": {},
     "output_type": "execute_result"
    }
   ],
   "source": [
    "%sql $con $sq.songplay_table_create\n",
    "%sql $con $sq.user_table_create\n",
    "%sql $con $sq.song_table_create\n",
    "%sql $con $sq.artist_table_create\n",
    "%sql $con $sq.time_table_create"
   ]
  },
  {
   "cell_type": "markdown",
   "metadata": {
    "editable": true
   },
   "source": [
    "### Populate the star schema"
   ]
  },
  {
   "cell_type": "code",
   "execution_count": 18,
   "metadata": {
    "editable": true
   },
   "outputs": [
    {
     "name": "stdout",
     "output_type": "stream",
     "text": [
      "333 rows affected.\n",
      "CPU times: user 4.78 ms, sys: 10.8 ms, total: 15.6 ms\n",
      "Wall time: 2.38 s\n"
     ]
    },
    {
     "data": {
      "text/plain": [
       "[]"
      ]
     },
     "execution_count": 18,
     "metadata": {},
     "output_type": "execute_result"
    }
   ],
   "source": [
    "%%time\n",
    "%sql $con $sq.songplay_table_insert"
   ]
  },
  {
   "cell_type": "markdown",
   "metadata": {
    "editable": true
   },
   "source": [
    "The number of actual songplays is below its potential because not all songs were matched by the song title and the artist name."
   ]
  },
  {
   "cell_type": "code",
   "execution_count": 19,
   "metadata": {
    "editable": true
   },
   "outputs": [
    {
     "name": "stdout",
     "output_type": "stream",
     "text": [
      "105 rows affected.\n",
      "CPU times: user 7.01 ms, sys: 3.83 ms, total: 10.8 ms\n",
      "Wall time: 6.9 s\n"
     ]
    },
    {
     "data": {
      "text/plain": [
       "[]"
      ]
     },
     "execution_count": 19,
     "metadata": {},
     "output_type": "execute_result"
    }
   ],
   "source": [
    "%%time\n",
    "%sql $con $sq.user_table_insert"
   ]
  },
  {
   "cell_type": "code",
   "execution_count": 20,
   "metadata": {
    "editable": true
   },
   "outputs": [
    {
     "name": "stdout",
     "output_type": "stream",
     "text": [
      "14896 rows affected.\n",
      "CPU times: user 11.2 ms, sys: 0 ns, total: 11.2 ms\n",
      "Wall time: 2.11 s\n"
     ]
    },
    {
     "data": {
      "text/plain": [
       "[]"
      ]
     },
     "execution_count": 20,
     "metadata": {},
     "output_type": "execute_result"
    }
   ],
   "source": [
    "%%time\n",
    "%sql $con $sq.song_table_insert"
   ]
  },
  {
   "cell_type": "code",
   "execution_count": 21,
   "metadata": {
    "editable": true
   },
   "outputs": [
    {
     "name": "stdout",
     "output_type": "stream",
     "text": [
      "10025 rows affected.\n",
      "CPU times: user 11.6 ms, sys: 0 ns, total: 11.6 ms\n",
      "Wall time: 2.08 s\n"
     ]
    },
    {
     "data": {
      "text/plain": [
       "[]"
      ]
     },
     "execution_count": 21,
     "metadata": {},
     "output_type": "execute_result"
    }
   ],
   "source": [
    "%%time\n",
    "%sql $con $sq.artist_table_insert"
   ]
  },
  {
   "cell_type": "code",
   "execution_count": 22,
   "metadata": {
    "editable": true
   },
   "outputs": [
    {
     "name": "stdout",
     "output_type": "stream",
     "text": [
      "333 rows affected.\n",
      "CPU times: user 13.8 ms, sys: 0 ns, total: 13.8 ms\n",
      "Wall time: 2.2 s\n"
     ]
    },
    {
     "data": {
      "text/plain": [
       "[]"
      ]
     },
     "execution_count": 22,
     "metadata": {},
     "output_type": "execute_result"
    }
   ],
   "source": [
    "%%time\n",
    "%sql $con $sq.time_table_insert"
   ]
  },
  {
   "cell_type": "markdown",
   "metadata": {
    "editable": true
   },
   "source": [
    "### Test running the DWH ETL scripts\n",
    "`create_tables.py` then `etl.py`"
   ]
  },
  {
   "cell_type": "code",
   "execution_count": 23,
   "metadata": {
    "editable": true
   },
   "outputs": [
    {
     "name": "stdout",
     "output_type": "stream",
     "text": [
      "CPU times: user 8.64 ms, sys: 1.8 ms, total: 10.4 ms\n",
      "Wall time: 4.64 s\n"
     ]
    }
   ],
   "source": [
    "%%time\n",
    "import create_tables\n",
    "create_tables.main()"
   ]
  },
  {
   "cell_type": "code",
   "execution_count": 24,
   "metadata": {
    "editable": true
   },
   "outputs": [
    {
     "name": "stdout",
     "output_type": "stream",
     "text": [
      "1 rows affected.\n"
     ]
    },
    {
     "data": {
      "text/html": [
       "<table>\n",
       "    <tr>\n",
       "        <th>staging_events</th>\n",
       "        <th>staging_songs</th>\n",
       "        <th>songplays</th>\n",
       "        <th>time</th>\n",
       "        <th>users</th>\n",
       "        <th>songs</th>\n",
       "        <th>artists</th>\n",
       "    </tr>\n",
       "    <tr>\n",
       "        <td>0</td>\n",
       "        <td>0</td>\n",
       "        <td>0</td>\n",
       "        <td>0</td>\n",
       "        <td>0</td>\n",
       "        <td>0</td>\n",
       "        <td>0</td>\n",
       "    </tr>\n",
       "</table>"
      ],
      "text/plain": [
       "[(0, 0, 0, 0, 0, 0, 0)]"
      ]
     },
     "execution_count": 24,
     "metadata": {},
     "output_type": "execute_result"
    }
   ],
   "source": [
    "%%sql $con SELECT\n",
    "(SELECT COUNT(*) FROM staging_events) as staging_events,\n",
    "(SELECT COUNT(*) FROM staging_songs) as staging_songs,\n",
    "(SELECT COUNT(*) FROM songplays) as songplays,\n",
    "(SELECT COUNT(*) FROM time) as time,\n",
    "(SELECT COUNT(*) FROM users) as users,\n",
    "(SELECT COUNT(*) FROM songs) as songs,\n",
    "(SELECT COUNT(*) FROM artists) as artists"
   ]
  },
  {
   "cell_type": "code",
   "execution_count": 25,
   "metadata": {
    "editable": true
   },
   "outputs": [
    {
     "name": "stdout",
     "output_type": "stream",
     "text": [
      "CPU times: user 7.57 ms, sys: 0 ns, total: 7.57 ms\n",
      "Wall time: 2min 45s\n"
     ]
    }
   ],
   "source": [
    "%%time\n",
    "import etl\n",
    "etl.main()"
   ]
  },
  {
   "cell_type": "code",
   "execution_count": 26,
   "metadata": {
    "editable": true
   },
   "outputs": [
    {
     "name": "stdout",
     "output_type": "stream",
     "text": [
      "1 rows affected.\n"
     ]
    },
    {
     "data": {
      "text/html": [
       "<table>\n",
       "    <tr>\n",
       "        <th>staging_events</th>\n",
       "        <th>staging_songs</th>\n",
       "        <th>songplays</th>\n",
       "        <th>time</th>\n",
       "        <th>users</th>\n",
       "        <th>songs</th>\n",
       "        <th>artists</th>\n",
       "    </tr>\n",
       "    <tr>\n",
       "        <td>8056</td>\n",
       "        <td>14896</td>\n",
       "        <td>333</td>\n",
       "        <td>333</td>\n",
       "        <td>105</td>\n",
       "        <td>14896</td>\n",
       "        <td>10025</td>\n",
       "    </tr>\n",
       "</table>"
      ],
      "text/plain": [
       "[(8056, 14896, 333, 333, 105, 14896, 10025)]"
      ]
     },
     "execution_count": 26,
     "metadata": {},
     "output_type": "execute_result"
    }
   ],
   "source": [
    "%%sql $con SELECT\n",
    "(SELECT COUNT(*) FROM staging_events) as staging_events,\n",
    "(SELECT COUNT(*) FROM staging_songs) as staging_songs,\n",
    "(SELECT COUNT(*) FROM songplays) as songplays,\n",
    "(SELECT COUNT(*) FROM time) as time,\n",
    "(SELECT COUNT(*) FROM users) as users,\n",
    "(SELECT COUNT(*) FROM songs) as songs,\n",
    "(SELECT COUNT(*) FROM artists) as artists"
   ]
  },
  {
   "cell_type": "code",
   "execution_count": null,
   "metadata": {
    "editable": true
   },
   "outputs": [],
   "source": []
  }
 ],
 "metadata": {
  "kernelspec": {
   "display_name": "Python 3",
   "language": "python",
   "name": "python3"
  },
  "language_info": {
   "codemirror_mode": {
    "name": "ipython",
    "version": 3
   },
   "file_extension": ".py",
   "mimetype": "text/x-python",
   "name": "python",
   "nbconvert_exporter": "python",
   "pygments_lexer": "ipython3",
   "version": "3.6.3"
  }
 },
 "nbformat": 4,
 "nbformat_minor": 4
}
